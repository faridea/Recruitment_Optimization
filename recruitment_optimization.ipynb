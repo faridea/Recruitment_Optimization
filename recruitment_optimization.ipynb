{
 "cells": [
  {
   "cell_type": "code",
   "execution_count": 1,
   "metadata": {},
   "outputs": [
    {
     "name": "stdout",
     "output_type": "stream",
     "text": [
      "Requirement already satisfied: pulp in c:\\users\\rayan\\anaconda3\\lib\\site-packages (2.7.0)\n"
     ]
    },
    {
     "name": "stderr",
     "output_type": "stream",
     "text": [
      "WARNING: You are using pip version 21.2.4; however, version 24.3.1 is available.\n",
      "You should consider upgrading via the 'C:\\Users\\RAYAN\\anaconda3\\python.exe -m pip install --upgrade pip' command.\n"
     ]
    }
   ],
   "source": [
    "!pip install pulp"
   ]
  },
  {
   "cell_type": "code",
   "execution_count": 2,
   "metadata": {},
   "outputs": [],
   "source": [
    "from pulp import LpMaximize, LpProblem, LpStatus, lpSum, LpVariable"
   ]
  },
  {
   "cell_type": "markdown",
   "metadata": {},
   "source": [
    "## 5 Variables (Team A, B, C, D, E)"
   ]
  },
  {
   "cell_type": "code",
   "execution_count": 27,
   "metadata": {},
   "outputs": [
    {
     "name": "stdout",
     "output_type": "stream",
     "text": [
      "Recruitment_Optimization_for_5_Teams:\n",
      "MAXIMIZE\n",
      "1.109*A + 1.27*B + 0.926*C + 0.778*D + 1.085*E + 0.0\n",
      "SUBJECT TO\n",
      "health_constraint: 0.737 A + 0.715 B + 0.771 C + 0.756 D + 0.705 E <= 20\n",
      "\n",
      "commitment_constraint: 0.755 A + 0.755 B + 0.744 C + 0.743 D + 0.755 E >= 20\n",
      "\n",
      "strength_constraint: 0.723 A + 0.739 B + 0.747 C + 0.742 D + 0.753 E <= 32\n",
      "\n",
      "VARIABLES\n",
      "1 <= A <= 10 Continuous\n",
      "1 <= B <= 10 Continuous\n",
      "1 <= C <= 10 Continuous\n",
      "1 <= D <= 10 Continuous\n",
      "1 <= E <= 10 Continuous\n",
      "\n"
     ]
    }
   ],
   "source": [
    "model = LpProblem(name=\"Recruitment Optimization for 5 Teams\", sense=LpMaximize)\n",
    "\n",
    "# Teams\n",
    "x1 = LpVariable(name=\"A\", lowBound=1, upBound = 10)\n",
    "x2 = LpVariable(name=\"B\", lowBound=1, upBound = 10)\n",
    "x3 = LpVariable(name=\"C\", lowBound=1, upBound = 10)\n",
    "x4 = LpVariable(name=\"D\", lowBound=1, upBound = 10)\n",
    "x5 = LpVariable(name=\"E\", lowBound=1, upBound = 10)\n",
    "\n",
    "# constraints\n",
    "model += (0.737*x1 + 0.715*x2 + 0.771*x3 +  0.756*x4 + 0.705*x5 <=20, \"health constraint\")\n",
    "model += (0.755*x1 + 0.755*x2 + 0.744*x3 +  0.743*x4 + 0.755*x5 >=20, \"commitment constraint\")\n",
    "model += (0.723*x1 + 0.739*x2 + 0.747*x3 +  0.742*x4 + 0.753*x5 <=32, \"strength constraint\")\n",
    "\n",
    "#objective function\n",
    "obj_func = 1.109 * x1 + 1.27*x2 + 0.926*x3 + 0.778*x4 + 1.085*x5\n",
    "model += obj_func\n",
    "\n",
    "print(model)"
   ]
  },
  {
   "cell_type": "code",
   "execution_count": 28,
   "metadata": {
    "scrolled": false
   },
   "outputs": [
    {
     "name": "stdout",
     "output_type": "stream",
     "text": [
      "status: 1, Optimal\n",
      "objective: 31.683792360999995\n",
      "A: 5.797829\n",
      "B: 10.0\n",
      "C: 1.0\n",
      "D: 1.0\n",
      "E: 10.0\n"
     ]
    }
   ],
   "source": [
    "status = model.solve()\n",
    "\n",
    "print(f\"status: {model.status}, {LpStatus[model.status]}\")\n",
    "print(f\"objective: {model.objective.value()}\")\n",
    "\n",
    "for var in model.variables():\n",
    "    print(f\"{var.name}: {var.value()}\")"
   ]
  },
  {
   "cell_type": "markdown",
   "metadata": {},
   "source": [
    "## 2 Variables (Team A, B)"
   ]
  },
  {
   "cell_type": "code",
   "execution_count": 29,
   "metadata": {},
   "outputs": [
    {
     "name": "stdout",
     "output_type": "stream",
     "text": [
      "Recruitment_Optimization_for_2_Teams:\n",
      "MAXIMIZE\n",
      "1.109*A + 1.27*B + 0.0\n",
      "SUBJECT TO\n",
      "health_constraint: 0.737 A + 0.715 B <= 30\n",
      "\n",
      "commitment_constraint: 0.755 A + 0.755 B >= 20\n",
      "\n",
      "strength_constraint: 0.723 A + 0.739 B <= 32\n",
      "\n",
      "VARIABLES\n",
      "1 <= A <= 30 Continuous\n",
      "1 <= B <= 30 Continuous\n",
      "\n"
     ]
    }
   ],
   "source": [
    "model = LpProblem(name= \"Recruitment Optimization for 2 Teams\", sense=LpMaximize)\n",
    "\n",
    "x1 = LpVariable(name=\"A\", lowBound=1, upBound = 30)\n",
    "x2 = LpVariable(name=\"B\", lowBound=1, upBound = 30)\n",
    "\n",
    "model += (0.737*x1 + 0.715*x2  <=30, \"health constraint\")\n",
    "model += (0.755*x1 + 0.755*x2  >=20, \"commitment constraint\")\n",
    "model += (0.723*x1 + 0.739*x2 <=32, \"strength constraint\")\n",
    "\n",
    "obj_func = 1.109 * x1 + 1.27*x2\n",
    "model += obj_func\n",
    "\n",
    "print(model)"
   ]
  },
  {
   "cell_type": "code",
   "execution_count": 30,
   "metadata": {},
   "outputs": [
    {
     "name": "stdout",
     "output_type": "stream",
     "text": [
      "status: 1, Optimal\n",
      "objective: 50.965603265\n",
      "A: 11.601085\n",
      "B: 30.0\n"
     ]
    }
   ],
   "source": [
    "status = model.solve()\n",
    "\n",
    "print(f\"status: {model.status}, {LpStatus[model.status]}\")\n",
    "print(f\"objective: {model.objective.value()}\")\n",
    "\n",
    "for var in model.variables():\n",
    "    print(f\"{var.name}: {var.value()}\")"
   ]
  },
  {
   "cell_type": "markdown",
   "metadata": {},
   "source": [
    "## Visualization"
   ]
  },
  {
   "cell_type": "code",
   "execution_count": 31,
   "metadata": {},
   "outputs": [
    {
     "data": {
      "text/plain": [
       "Text(0, 0.5, 'x2')"
      ]
     },
     "execution_count": 31,
     "metadata": {},
     "output_type": "execute_result"
    },
    {
     "data": {
      "image/png": "[encoded data removed]",
      "text/plain": [
       "<Figure size 432x288 with 1 Axes>"
      ]
     },
     "metadata": {
      "needs_background": "light"
     },
     "output_type": "display_data"
    }
   ],
   "source": [
    "import matplotlib.pyplot as plt\n",
    "import numpy as np\n",
    "\n",
    "d = np.linspace(1,30,300)\n",
    "x,y = np.meshgrid(d,d)\n",
    "\n",
    "plt.imshow( ((0.737*x + 0.715*y  <=30) \n",
    "             & (0.755*x + 0.755*y  >=20) \n",
    "             & (0.723*x + 0.739*y <=32)).astype(int) , \n",
    "             extent=(x.min(),x.max(),y.min(),y.max()),origin=\"lower\", cmap=\"Greys\", alpha = 0.7)\n",
    "\n",
    "\n",
    "x = np.linspace(0, 30, 2000)\n",
    "y1 = (30 - 0.737*x)/0.715\n",
    "y3 = (32 - 0.723*x)/0.739\n",
    "y2 = (20- 0.755*x)/ 0.755\n",
    "\n",
    "plt.plot(x, y1, label='y1', color = 'black')\n",
    "plt.plot(x, y2, label='y2', color = 'red')\n",
    "plt.plot(x, y3, label='y3', color = 'pink')\n",
    "\n",
    "plt.xlim(0,40)\n",
    "plt.ylim(0,40)\n",
    "plt.legend(bbox_to_anchor=(1.05, 1), loc=2, borderaxespad=0.)\n",
    "plt.xlabel('x1')\n",
    "plt.ylabel('x2')"
   ]
  },
  {
   "cell_type": "code",
   "execution_count": 58,
   "metadata": {},
   "outputs": [
    {
     "name": "stdout",
     "output_type": "stream",
     "text": [
      "[30, 11.034965034965037]\n"
     ]
    }
   ],
   "source": [
    "x = 30\n",
    "y1 = (30 - 0.737*x)/0.715\n",
    "c1 = [30,y1]\n",
    "print(c1)"
   ]
  },
  {
   "cell_type": "code",
   "execution_count": 59,
   "metadata": {},
   "outputs": [
    {
     "name": "stdout",
     "output_type": "stream",
     "text": [
      "[1, 25.490066225165563]\n"
     ]
    }
   ],
   "source": [
    "x = 1\n",
    "y2 = (20- 0.755*x)/ 0.755\n",
    "c2 = [1,y2]\n",
    "print(c2)"
   ]
  },
  {
   "cell_type": "code",
   "execution_count": 60,
   "metadata": {},
   "outputs": [],
   "source": [
    "c3 = [30,1]\n",
    "c4 = [1,30]"
   ]
  },
  {
   "cell_type": "code",
   "execution_count": 61,
   "metadata": {},
   "outputs": [
    {
     "name": "stdout",
     "output_type": "stream",
     "text": [
      "[0.9999999999999987, 1]\n"
     ]
    }
   ],
   "source": [
    "x = (20 - 0.755*y2) / 0.755\n",
    "y2 = 1\n",
    "c5 = [x,1]\n",
    "print(c5)"
   ]
  },
  {
   "cell_type": "code",
   "execution_count": 62,
   "metadata": {
    "scrolled": true
   },
   "outputs": [
    {
     "name": "stdout",
     "output_type": "stream",
     "text": [
      "[30.0, 30]\n"
     ]
    }
   ],
   "source": [
    "x = (30-0.715*y1)/0.737\n",
    "y1 = 30\n",
    "c6 = [x,30]\n",
    "print(c6)"
   ]
  },
  {
   "cell_type": "code",
   "execution_count": 63,
   "metadata": {
    "scrolled": false
   },
   "outputs": [
    {
     "name": "stdout",
     "output_type": "stream",
     "text": [
      "([30, 11.034965034965037], [1, 25.490066225165563], [30, 1], [1, 30], [0.9999999999999987, 1], [30.0, 30])\n"
     ]
    }
   ],
   "source": [
    "c = c1,c2,c3,c4,c5,c6 \n",
    "print(c)"
   ]
  },
  {
   "cell_type": "code",
   "execution_count": 64,
   "metadata": {},
   "outputs": [
    {
     "name": "stdout",
     "output_type": "stream",
     "text": [
      "<class 'int'>\n",
      "<class 'int'>\n",
      "<class 'int'>\n",
      "<class 'int'>\n",
      "<class 'float'>\n",
      "<class 'float'>\n",
      "optimal performance:  71.37 \n",
      " optimal x1:  30.0 \n",
      " optimal x2:  30\n"
     ]
    }
   ],
   "source": [
    "maximum = -float(\"inf\")\n",
    "\n",
    "for i in range(len(c)):\n",
    "    x1 =c[i][0]\n",
    "    x2 = c[i][1]\n",
    "    print(type(x1))\n",
    "    obj_func = 1.109 * x1 + 1.27*x2\n",
    "    if obj_func> maximum:\n",
    "        maximum = obj_func\n",
    "        x1_max = x1\n",
    "        x2_max = x2\n",
    "\n",
    "print(\"optimal performance: \",maximum,\"\\n\",\"optimal x1: \", x1_max,'\\n','optimal x2: ',x2_max)       "
   ]
  }
 ],
 "metadata": {
  "kernelspec": {
   "display_name": "Python 3",
   "language": "python",
   "name": "python3"
  },
  "language_info": {
   "codemirror_mode": {
    "name": "ipython",
    "version": 3
   },
   "file_extension": ".py",
   "mimetype": "text/x-python",
   "name": "python",
   "nbconvert_exporter": "python",
   "pygments_lexer": "ipython3",
   "version": "3.8.5"
  }
 },
 "nbformat": 4,
 "nbformat_minor": 4
}
